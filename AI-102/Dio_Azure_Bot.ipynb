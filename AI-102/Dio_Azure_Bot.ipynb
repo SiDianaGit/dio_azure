{
  "nbformat": 4,
  "nbformat_minor": 0,
  "metadata": {
    "colab": {
      "provenance": []
    },
    "kernelspec": {
      "name": "python3",
      "display_name": "Python 3"
    },
    "language_info": {
      "name": "python"
    }
  },
  "cells": [
    {
      "cell_type": "code",
      "source": [
        "import os\n",
        "from google.colab import userdata\n",
        "\n",
        "os.environ['AZURE_BOT_KEY'] = userdata.get('AZURE_BOT_KEY')"
      ],
      "metadata": {
        "id": "NTLBZA9Z8sJu"
      },
      "execution_count": 29,
      "outputs": []
    },
    {
      "cell_type": "code",
      "execution_count": 31,
      "metadata": {
        "colab": {
          "base_uri": "https://localhost:8080/"
        },
        "id": "-aWUn3hVmsAz",
        "outputId": "f74d5efa-c8d2-4c43-bf1d-ea373f2b950c"
      },
      "outputs": [
        {
          "output_type": "stream",
          "name": "stdout",
          "text": [
            "Conversa criada: Jjjx0UWrWtlDeXUAXeoWSN-us\n"
          ]
        }
      ],
      "source": [
        "import requests\n",
        "import time\n",
        "\n",
        "\n",
        "# 🔑 Coloque aqui sua Direct Line Secret do Azure Bot\n",
        "DIRECT_LINE_SECRET = userdata.get('AZURE_BOT_KEY')\n",
        "DIRECT_LINE_URL = \"https://directline.botframework.com/v3/directline\"\n",
        "\n",
        "# Headers de autenticação\n",
        "headers = {\n",
        "    \"Authorization\": f\"Bearer {DIRECT_LINE_SECRET}\"\n",
        "}\n",
        "\n",
        "# 1. Criar conversa\n",
        "response = requests.post(f\"{DIRECT_LINE_URL}/conversations\", headers=headers)\n",
        "response_json = response.json()\n",
        "\n",
        "# Check if the response contains an error\n",
        "if \"error\" in response_json:\n",
        "    print(\"Error creating conversation:\", response_json[\"error\"][\"message\"])\n",
        "    conversation_id = None  # Set conversation_id to None or handle the error as appropriate\n",
        "else:\n",
        "    conversation_id = response_json[\"conversationId\"]\n",
        "    print(\"Conversa criada:\", conversation_id)\n",
        "\n",
        "# Função para enviar mensagem\n",
        "def send_message(message):\n",
        "    if conversation_id is None:\n",
        "        print(\"Cannot send message: No conversation ID available.\")\n",
        "        return None\n",
        "    url = f\"{DIRECT_LINE_URL}/conversations/{conversation_id}/activities\"\n",
        "    data = {\n",
        "        \"type\": \"message\",\n",
        "        \"from\": {\"id\": \"user1\"},\n",
        "        \"text\": message\n",
        "    }\n",
        "    r = requests.post(url, headers=headers, json=data)\n",
        "    return r.json()\n",
        "\n",
        "# Função para receber mensagens\n",
        "def get_messages():\n",
        "    if conversation_id is None:\n",
        "        print(\"Cannot get messages: No conversation ID available.\")\n",
        "        return []\n",
        "    url = f\"{DIRECT_LINE_URL}/conversations/{conversation_id}/activities\"\n",
        "    r = requests.get(url, headers=headers)\n",
        "    messages = r.json()[\"activities\"]\n",
        "    return messages"
      ]
    },
    {
      "cell_type": "code",
      "source": [
        "\n",
        "# Exemplo de envio\n",
        "send_message(\"Hi Bot, How are you?\")\n"
      ],
      "metadata": {
        "colab": {
          "base_uri": "https://localhost:8080/"
        },
        "id": "p5FA58p37rRJ",
        "outputId": "ddb1786a-d759-4cf6-af2c-b63705698f77"
      },
      "execution_count": 36,
      "outputs": [
        {
          "output_type": "execute_result",
          "data": {
            "text/plain": [
              "{'id': 'Jjjx0UWrWtlDeXUAXeoWSN-us|0001010'}"
            ]
          },
          "metadata": {},
          "execution_count": 36
        }
      ]
    },
    {
      "cell_type": "code",
      "source": [
        "# Aguardar um pouco e buscar respostas\n",
        "time.sleep(5)\n",
        "messages = get_messages()\n"
      ],
      "metadata": {
        "id": "1LLiCdAe-suH"
      },
      "execution_count": 37,
      "outputs": []
    },
    {
      "cell_type": "code",
      "source": [
        "print(\"Todas as mensagens recebidas:\")\n",
        "print(messages)"
      ],
      "metadata": {
        "colab": {
          "base_uri": "https://localhost:8080/"
        },
        "collapsed": true,
        "id": "9QhUBfZYBfy3",
        "outputId": "d052f7bf-f73d-4833-b946-dddcc0bba395"
      },
      "execution_count": 38,
      "outputs": [
        {
          "output_type": "stream",
          "name": "stdout",
          "text": [
            "Todas as mensagens recebidas:\n",
            "[{'type': 'message', 'id': 'Jjjx0UWrWtlDeXUAXeoWSN-us|0000000', 'timestamp': '2025-09-10T22:34:51.2130665Z', 'serviceUrl': 'https://directline.botframework.com/', 'channelId': 'directline', 'from': {'id': 'user1'}, 'conversation': {'id': 'Jjjx0UWrWtlDeXUAXeoWSN-us'}, 'recipient': {'id': 'dioBot@9BtVhOPdomc306cUFLjqIjP3e5VnofgYF5cZoOeQSlZbPMY5mmT3JQQJ99BIAC4f1cMAArohAAABAZBS4HVU', 'name': 'dioBot'}, 'text': 'Olá Bot, tudo bem? Qual a sua função?'}, {'type': 'message', 'id': 'Jjjx0UWrWtlDeXUAXeoWSN-us|0001010', 'timestamp': '2025-09-11T00:50:05.6567223Z', 'serviceUrl': 'https://directline.botframework.com/', 'channelId': 'directline', 'from': {'id': 'user1'}, 'conversation': {'id': 'Jjjx0UWrWtlDeXUAXeoWSN-us'}, 'recipient': {'id': 'dioBot@9BtVhOPdomc306cUFLjqIjP3e5VnofgYF5cZoOeQSlZbPMY5mmT3JQQJ99BIAC4f1cMAArohAAABAZBS4HVU', 'name': 'dioBot'}, 'text': 'Hi Bot, How are you?'}]\n"
          ]
        }
      ]
    },
    {
      "cell_type": "code",
      "source": [
        "\n",
        "# Supondo que 'messages' é a lista de mensagens recuperadas\n",
        "# Filtra apenas as mensagens do bot (onde 'from' não é 'user1')\n",
        "bot_messages = [m for m in messages if m['from']['id'] != 'user1']\n",
        "\n",
        "# Se houver mensagens do bot, imprima a última\n",
        "if bot_messages:\n",
        "    last_bot_message = bot_messages[-1] # Obtém a última mensagem da lista\n",
        "    print(f\"🤖 Bot respondeu: {last_bot_message['text']}\")\n",
        "else:\n",
        "    print(\"Nenhuma resposta do bot encontrada.\")"
      ],
      "metadata": {
        "colab": {
          "base_uri": "https://localhost:8080/"
        },
        "id": "XHglaqkp_EUe",
        "outputId": "a67c32cd-6ef9-4afe-e217-535e7332aba0"
      },
      "execution_count": 42,
      "outputs": [
        {
          "output_type": "stream",
          "name": "stdout",
          "text": [
            "Nenhuma resposta do bot encontrada.\n"
          ]
        }
      ]
    }
  ]
}